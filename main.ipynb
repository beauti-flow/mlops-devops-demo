{
 "cells": [
  {
   "cell_type": "code",
   "execution_count": 13,
   "id": "8a5a8633",
   "metadata": {},
   "outputs": [
    {
     "name": "stdout",
     "output_type": "stream",
     "text": [
      "Model retrained and saved!\n"
     ]
    }
   ],
   "source": [
    "# train_notebook.ipynb\n",
    "import sys\n",
    "from pathlib import Path\n",
    "from ml.train import train_model\n",
    "# Add project root to path if needed\n",
    "project_root = Path('.').resolve()\n",
    "sys.path.append(str(project_root))\n",
    "\n",
    "# Import your train.py functions\n",
    "# Example: if train.py has a function `train_model(X, y)`\n",
    "\n",
    "\n",
    "# Example new data\n",
    "import numpy as np\n",
    "X_new = np.random.rand(100, 3)  # 100 samples, 3 features\n",
    "y_new = X_new @ np.array([1.5, -2.0, 0.5]) + 0.1  # linear combination + noise\n",
    "\n",
    "# Retrain the model\n",
    "model = train_model(X_new, y_new)\n",
    "\n",
    "# Save new model\n",
    "import pickle\n",
    "with open('ml/model.pkl', 'wb') as f:\n",
    "    pickle.dump(model, f)\n",
    "\n",
    "print(\"Model retrained and saved!\")\n"
   ]
  },
  {
   "cell_type": "code",
   "execution_count": 22,
   "id": "e751ca7c",
   "metadata": {},
   "outputs": [
    {
     "data": {
      "text/plain": [
       "array([-17.9])"
      ]
     },
     "execution_count": 22,
     "metadata": {},
     "output_type": "execute_result"
    }
   ],
   "source": [
    "model.predict([[11,23,23]])  # Example prediction"
   ]
  },
  {
   "cell_type": "code",
   "execution_count": null,
   "id": "1d3919e5",
   "metadata": {},
   "outputs": [],
   "source": []
  }
 ],
 "metadata": {
  "kernelspec": {
   "display_name": "venv (3.13.0)",
   "language": "python",
   "name": "python3"
  },
  "language_info": {
   "codemirror_mode": {
    "name": "ipython",
    "version": 3
   },
   "file_extension": ".py",
   "mimetype": "text/x-python",
   "name": "python",
   "nbconvert_exporter": "python",
   "pygments_lexer": "ipython3",
   "version": "3.13.0"
  }
 },
 "nbformat": 4,
 "nbformat_minor": 5
}
